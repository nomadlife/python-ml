{
 "cells": [
  {
   "cell_type": "markdown",
   "metadata": {},
   "source": [
    "Tensors"
   ]
  },
  {
   "cell_type": "code",
   "execution_count": 11,
   "metadata": {},
   "outputs": [],
   "source": [
    "from __future__ import print_function\n",
    "import torch"
   ]
  },
  {
   "cell_type": "code",
   "execution_count": 7,
   "metadata": {},
   "outputs": [
    {
     "data": {
      "text/plain": [
       "tensor([[ 3.6510e+18,  4.5736e-41,  3.6510e+18],\n",
       "        [ 4.5736e-41,  0.0000e+00,  0.0000e+00],\n",
       "        [ 7.0065e-45,         nan,  3.6749e-14],\n",
       "        [ 3.0628e-41,  0.0000e+00,  0.0000e+00],\n",
       "        [ 0.0000e+00,  0.0000e+00,  7.0065e-45]])"
      ]
     },
     "execution_count": 7,
     "metadata": {},
     "output_type": "execute_result"
    }
   ],
   "source": [
    "torch.Tensor(5,3)"
   ]
  },
  {
   "cell_type": "code",
   "execution_count": 18,
   "metadata": {},
   "outputs": [
    {
     "data": {
      "text/plain": [
       "tensor([[ 3.6510e+18,  4.5736e-41,  3.6510e+18,  4.5736e-41],\n",
       "        [ 0.0000e+00,  0.0000e+00,  0.0000e+00,  0.0000e+00]])"
      ]
     },
     "execution_count": 18,
     "metadata": {},
     "output_type": "execute_result"
    }
   ],
   "source": [
    "torch.empty(2,4)"
   ]
  },
  {
   "cell_type": "code",
   "execution_count": 17,
   "metadata": {},
   "outputs": [
    {
     "data": {
      "text/plain": [
       "tensor([[ 0.9648,  0.1087,  0.9380],\n",
       "        [ 0.4838,  0.0573,  0.8607],\n",
       "        [ 0.0833,  0.4350,  0.3045],\n",
       "        [ 0.7813,  0.4151,  0.6097],\n",
       "        [ 0.2077,  0.7770,  0.6446],\n",
       "        [ 0.2598,  0.5794,  0.7230],\n",
       "        [ 0.3830,  0.9144,  0.2177]])"
      ]
     },
     "execution_count": 17,
     "metadata": {},
     "output_type": "execute_result"
    }
   ],
   "source": [
    "torch.rand(7,3)"
   ]
  },
  {
   "cell_type": "code",
   "execution_count": 76,
   "metadata": {},
   "outputs": [
    {
     "name": "stdout",
     "output_type": "stream",
     "text": [
      "torch.Size([6, 3])\n"
     ]
    }
   ],
   "source": [
    "x=torch.rand(6,3)\n",
    "print(x.size())"
   ]
  },
  {
   "cell_type": "markdown",
   "metadata": {},
   "source": [
    "## Operation"
   ]
  },
  {
   "cell_type": "code",
   "execution_count": 77,
   "metadata": {},
   "outputs": [
    {
     "name": "stdout",
     "output_type": "stream",
     "text": [
      "tensor([[ 0.5055,  0.1052,  0.9486],\n",
      "        [ 0.5004,  0.2223,  0.4238],\n",
      "        [ 0.3482,  0.5997,  0.1659],\n",
      "        [ 0.3423,  0.2767,  0.4403],\n",
      "        [ 0.9228,  0.3183,  0.0609],\n",
      "        [ 0.9452,  0.4546,  0.0323]])\n",
      "tensor([[ 0.8320,  0.0795,  0.0648],\n",
      "        [ 0.7606,  0.7300,  0.7351],\n",
      "        [ 0.3759,  0.9941,  0.1419],\n",
      "        [ 0.9519,  0.6483,  0.3618],\n",
      "        [ 0.7699,  0.7917,  0.9777],\n",
      "        [ 0.2064,  0.4712,  0.4711]])\n",
      "tensor([[ 1.3375,  0.1846,  1.0134],\n",
      "        [ 1.2610,  0.9524,  1.1589],\n",
      "        [ 0.7241,  1.5939,  0.3078],\n",
      "        [ 1.2942,  0.9250,  0.8021],\n",
      "        [ 1.6927,  1.1100,  1.0386],\n",
      "        [ 1.1516,  0.9259,  0.5034]])\n"
     ]
    }
   ],
   "source": [
    "# addition : syntax 1\n",
    "y= torch.rand(6,3)\n",
    "print(x)\n",
    "print(y)\n",
    "print(x+y)"
   ]
  },
  {
   "cell_type": "code",
   "execution_count": 25,
   "metadata": {},
   "outputs": [
    {
     "data": {
      "text/plain": [
       "tensor([[ 0,  0,  0],\n",
       "        [ 0,  0,  0],\n",
       "        [ 0,  0,  0],\n",
       "        [ 0,  0,  0],\n",
       "        [ 0,  0,  0]])"
      ]
     },
     "execution_count": 25,
     "metadata": {},
     "output_type": "execute_result"
    }
   ],
   "source": [
    "torch.zeros(5, 3, dtype=torch.long)"
   ]
  },
  {
   "cell_type": "code",
   "execution_count": 26,
   "metadata": {},
   "outputs": [
    {
     "data": {
      "text/plain": [
       "tensor([ 5.5000,  3.0000])"
      ]
     },
     "execution_count": 26,
     "metadata": {},
     "output_type": "execute_result"
    }
   ],
   "source": [
    "torch.tensor([5.5, 3])"
   ]
  },
  {
   "cell_type": "code",
   "execution_count": 83,
   "metadata": {},
   "outputs": [
    {
     "name": "stdout",
     "output_type": "stream",
     "text": [
      "tensor([[ 1.3375,  0.1846,  1.0134],\n",
      "        [ 1.2610,  0.9524,  1.1589],\n",
      "        [ 0.7241,  1.5939,  0.3078],\n",
      "        [ 1.2942,  0.9250,  0.8021],\n",
      "        [ 1.6927,  1.1100,  1.0386],\n",
      "        [ 1.1516,  0.9259,  0.5034]])\n"
     ]
    }
   ],
   "source": [
    "# addition : syntax 2\n",
    "print(torch.add(x,y))"
   ]
  },
  {
   "cell_type": "code",
   "execution_count": 98,
   "metadata": {},
   "outputs": [
    {
     "name": "stdout",
     "output_type": "stream",
     "text": [
      "tensor([[ 1.3375,  0.1846,  1.0134],\n",
      "        [ 1.2610,  0.9524,  1.1589],\n",
      "        [ 0.7241,  1.5939,  0.3078],\n",
      "        [ 1.2942,  0.9250,  0.8021],\n",
      "        [ 1.6927,  1.1100,  1.0386],\n",
      "        [ 1.1516,  0.9259,  0.5034]])\n"
     ]
    }
   ],
   "source": [
    "# Addition  giving output tensor\n",
    "result = torch.Tensor(6,3)\n",
    "torch.add(x,y,out=result)\n",
    "print(result)"
   ]
  },
  {
   "cell_type": "code",
   "execution_count": 99,
   "metadata": {},
   "outputs": [
    {
     "name": "stdout",
     "output_type": "stream",
     "text": [
      "tensor([[ 1.3375,  0.1846,  1.0134],\n",
      "        [ 1.2610,  0.9524,  1.1589],\n",
      "        [ 0.7241,  1.5939,  0.3078],\n",
      "        [ 1.2942,  0.9250,  0.8021],\n",
      "        [ 1.6927,  1.1100,  1.0386],\n",
      "        [ 1.1516,  0.9259,  0.5034]])\n"
     ]
    }
   ],
   "source": [
    "# Addition : in-place\n",
    "# adds x to y\n",
    "y.add_(x)\n",
    "print(y)"
   ]
  },
  {
   "cell_type": "code",
   "execution_count": 100,
   "metadata": {},
   "outputs": [
    {
     "name": "stdout",
     "output_type": "stream",
     "text": [
      "tensor([ 0.1052,  0.2223,  0.5997,  0.2767,  0.3183,  0.4546])\n"
     ]
    }
   ],
   "source": [
    "print(x[:,1])"
   ]
  },
  {
   "cell_type": "code",
   "execution_count": 109,
   "metadata": {},
   "outputs": [
    {
     "name": "stdout",
     "output_type": "stream",
     "text": [
      "tensor([[ 0.0919, -0.1341, -0.0204,  0.7917],\n",
      "        [-0.2265,  1.7513,  1.3092, -0.1232],\n",
      "        [-0.2903,  1.8177,  0.7712, -0.3176],\n",
      "        [-0.0890,  1.5849, -1.4962,  0.8540]]) torch.Size([4, 4])\n",
      "tensor([[ 0.0919, -0.1341],\n",
      "        [-0.0204,  0.7917],\n",
      "        [-0.2265,  1.7513],\n",
      "        [ 1.3092, -0.1232],\n",
      "        [-0.2903,  1.8177],\n",
      "        [ 0.7712, -0.3176],\n",
      "        [-0.0890,  1.5849],\n",
      "        [-1.4962,  0.8540]])\n",
      "tensor([ 0.0919, -0.1341, -0.0204,  0.7917, -0.2265,  1.7513,  1.3092,\n",
      "        -0.1232, -0.2903,  1.8177,  0.7712, -0.3176, -0.0890,  1.5849,\n",
      "        -1.4962,  0.8540]) torch.Size([16])\n",
      "tensor([[ 0.0919, -0.1341, -0.0204,  0.7917, -0.2265,  1.7513,  1.3092,\n",
      "         -0.1232],\n",
      "        [-0.2903,  1.8177,  0.7712, -0.3176, -0.0890,  1.5849, -1.4962,\n",
      "          0.8540]]) torch.Size([2, 8])\n"
     ]
    }
   ],
   "source": [
    "x = torch.randn(4, 4)\n",
    "print(x, x.size())\n",
    "print(x.view(8,2))\n",
    "y = x.view(16)\n",
    "print(y, y.size())\n",
    "z = x.view(-1, 8)  # the size -1 is inferred from other dimensions\n",
    "print(z, z.size())"
   ]
  },
  {
   "cell_type": "markdown",
   "metadata": {},
   "source": [
    "## Numpy bridge"
   ]
  },
  {
   "cell_type": "code",
   "execution_count": 30,
   "metadata": {},
   "outputs": [
    {
     "name": "stdout",
     "output_type": "stream",
     "text": [
      "tensor([ 1.,  1.,  1.,  1.,  1.])\n"
     ]
    }
   ],
   "source": [
    "a=torch.ones(5)\n",
    "print(a)"
   ]
  },
  {
   "cell_type": "code",
   "execution_count": 31,
   "metadata": {},
   "outputs": [
    {
     "name": "stdout",
     "output_type": "stream",
     "text": [
      "[1. 1. 1. 1. 1.]\n"
     ]
    }
   ],
   "source": [
    "b=a.numpy()\n",
    "print(b)"
   ]
  },
  {
   "cell_type": "code",
   "execution_count": 50,
   "metadata": {},
   "outputs": [
    {
     "name": "stdout",
     "output_type": "stream",
     "text": [
      "tensor([ 21.,  21.,  21.,  21.,  21.])\n",
      "[21. 21. 21. 21. 21.]\n"
     ]
    }
   ],
   "source": [
    "a.add_(1)\n",
    "print(a)\n",
    "print(b)"
   ]
  },
  {
   "cell_type": "markdown",
   "metadata": {},
   "source": [
    " Converting numpy Array to torch Tensor"
   ]
  },
  {
   "cell_type": "code",
   "execution_count": 70,
   "metadata": {},
   "outputs": [
    {
     "name": "stdout",
     "output_type": "stream",
     "text": [
      "[1. 1. 1. 1. 1.]\n",
      "tensor([ 1.,  1.,  1.,  1.,  1.], dtype=torch.float64)\n",
      "[2. 2. 2. 2. 2.]\n"
     ]
    }
   ],
   "source": [
    "import numpy as np\n",
    "a = np.ones(5)\n",
    "print(a)\n",
    "b = torch.from_numpy(a)\n",
    "print(b)\n",
    "np.add(a, 1, out=a)\n",
    "print(a)\n"
   ]
  },
  {
   "cell_type": "markdown",
   "metadata": {
    "collapsed": true
   },
   "source": [
    "CUDA Tensor"
   ]
  },
  {
   "cell_type": "code",
   "execution_count": 72,
   "metadata": {},
   "outputs": [
    {
     "name": "stdout",
     "output_type": "stream",
     "text": [
      "tensor([[ 1.7780,  1.4390,  1.9605],\n",
      "        [ 1.9273,  1.2835,  1.9752],\n",
      "        [ 1.8358,  1.7912,  1.3349],\n",
      "        [ 1.5105,  1.3113,  1.0491],\n",
      "        [ 1.6217,  1.1210,  1.0081],\n",
      "        [ 1.0735,  1.2404,  1.2173]], device='cuda:0')\n",
      "tensor([[ 1.7780,  1.4390,  1.9605],\n",
      "        [ 1.9273,  1.2835,  1.9752],\n",
      "        [ 1.8358,  1.7912,  1.3349],\n",
      "        [ 1.5105,  1.3113,  1.0491],\n",
      "        [ 1.6217,  1.1210,  1.0081],\n",
      "        [ 1.0735,  1.2404,  1.2173]], dtype=torch.float64)\n"
     ]
    }
   ],
   "source": [
    "# let us run this cell only if CUDA is available\n",
    "# We will use ``torch.device`` object to move tensors in and out of GPU\n",
    "if torch.cuda.is_available():\n",
    "    device = torch.device(\"cuda\")\n",
    "    y = torch.ones_like(x, device=device)\n",
    "    x = x.to(device)\n",
    "    z = x+y\n",
    "    print(z)\n",
    "    print(z.to(\"cpu\",torch.double))"
   ]
  }
 ],
 "metadata": {
  "kernelspec": {
   "display_name": "Python 3",
   "language": "python",
   "name": "python3"
  },
  "language_info": {
   "codemirror_mode": {
    "name": "ipython",
    "version": 3
   },
   "file_extension": ".py",
   "mimetype": "text/x-python",
   "name": "python",
   "nbconvert_exporter": "python",
   "pygments_lexer": "ipython3",
   "version": "3.6.4"
  }
 },
 "nbformat": 4,
 "nbformat_minor": 2
}
