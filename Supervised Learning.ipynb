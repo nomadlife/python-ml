{
 "cells": [
  {
   "cell_type": "markdown",
   "metadata": {},
   "source": [
    "# Supervised Learning\n",
    "\n",
    "- Classification and Regression\n",
    "- Gerneralization, Overfitting, and Underfitting"
   ]
  },
  {
   "cell_type": "markdown",
   "metadata": {},
   "source": [
    "## classification"
   ]
  },
  {
   "cell_type": "code",
   "execution_count": 7,
   "metadata": {},
   "outputs": [
    {
     "name": "stdout",
     "output_type": "stream",
     "text": [
      "[[  9.96346605   4.59676542]\n",
      " [ 11.0329545   -0.16816717]\n",
      " [ 11.54155807   5.21116083]\n",
      " [  8.69289001   1.54322016]\n",
      " [  8.1062269    4.28695977]\n",
      " [  8.30988863   4.80623966]\n",
      " [ 11.93027136   4.64866327]\n",
      " [  9.67284681  -0.20283165]\n",
      " [  8.34810316   5.13415623]\n",
      " [  8.67494727   4.47573059]\n",
      " [  9.17748385   5.09283177]\n",
      " [ 10.24028948   2.45544401]\n",
      " [  8.68937095   1.48709629]\n",
      " [  8.92229526  -0.63993225]\n",
      " [  9.49123469   4.33224792]\n",
      " [  9.25694192   5.13284858]\n",
      " [  7.99815287   4.8525051 ]\n",
      " [  8.18378052   1.29564214]\n",
      " [  8.7337095    2.49162431]\n",
      " [  9.32298256   5.09840649]\n",
      " [ 10.06393839   0.99078055]\n",
      " [  9.50048972  -0.26430318]\n",
      " [  8.34468785   1.63824349]\n",
      " [  9.50169345   1.93824624]\n",
      " [  9.15072323   5.49832246]\n",
      " [ 11.563957     1.3389402 ]] \n",
      " [1 0 1 0 0 1 1 0 1 1 1 1 0 0 1 1 1 0 0 1 0 0 0 0 1 0]\n",
      "X.shape: (26, 2)\n"
     ]
    },
    {
     "data": {
      "image/png": "[encoded data removed]",
      "text/plain": [
       "<matplotlib.figure.Figure at 0x7f41a97934e0>"
      ]
     },
     "metadata": {},
     "output_type": "display_data"
    }
   ],
   "source": [
    "\n",
    "import mglearn\n",
    "%matplotlib inline\n",
    "import matplotlib.pyplot as plt\n",
    "\n",
    "X, y = mglearn.datasets.make_forge()\n",
    "\n",
    "print(X,\"\\n\",y)\n",
    "mglearn.discrete_scatter(X[:, 0], X[:, 1], y)\n",
    "\n",
    "# plot\n",
    "plt.legend([\"Class 0\", \"Class 1\"], loc=4)\n",
    "plt.xlabel(\"feature 1\")\n",
    "plt.ylabel(\"feature 2\")\n",
    "print(\"X.shape: {}\".format(X.shape))"
   ]
  },
  {
   "cell_type": "code",
   "execution_count": 4,
   "metadata": {},
   "outputs": [
    {
     "data": {
      "text/plain": [
       "Text(0,0.5,'Target')"
      ]
     },
     "execution_count": 4,
     "metadata": {},
     "output_type": "execute_result"
    },
    {
     "data": {
      "image/png": "[encoded data removed]",
      "text/plain": [
       "<matplotlib.figure.Figure at 0x7f41ac402f28>"
      ]
     },
     "metadata": {},
     "output_type": "display_data"
    }
   ],
   "source": [
    "X, y = mglearn.datasets.make_wave(n_samples=40)\n",
    "plt.plot(X, y, 'o')\n",
    "plt.ylim(-3, 3)\n",
    "plt.xlabel(\"Feature\")\n",
    "plt.ylabel(\"Target\")"
   ]
  }
 ],
 "metadata": {
  "kernelspec": {
   "display_name": "Python 3",
   "language": "python",
   "name": "python3"
  },
  "language_info": {
   "codemirror_mode": {
    "name": "ipython",
    "version": 3
   },
   "file_extension": ".py",
   "mimetype": "text/x-python",
   "name": "python",
   "nbconvert_exporter": "python",
   "pygments_lexer": "ipython3",
   "version": "3.5.2"
  }
 },
 "nbformat": 4,
 "nbformat_minor": 2
}
